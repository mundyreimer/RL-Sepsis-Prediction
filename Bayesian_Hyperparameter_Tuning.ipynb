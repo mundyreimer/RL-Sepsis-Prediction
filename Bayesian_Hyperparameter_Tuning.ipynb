{
 "cells": [
  {
   "cell_type": "code",
   "execution_count": 1,
   "metadata": {},
   "outputs": [],
   "source": [
    "# Filter tensorflow version warnings\n",
    "import os\n",
    "# https://stackoverflow.com/questions/40426502/is-there-a-way-to-suppress-the-messages-tensorflow-prints/40426709\n",
    "os.environ['TF_CPP_MIN_LOG_LEVEL'] = '3'  # or any {'0', '1', '2'}\n",
    "import warnings\n",
    "# https://stackoverflow.com/questions/15777951/how-to-suppress-pandas-future-warning\n",
    "warnings.simplefilter(action='ignore', category=FutureWarning)\n",
    "warnings.simplefilter(action='ignore', category=Warning)\n",
    "import tensorflow as tf\n",
    "tf.get_logger().setLevel('INFO')\n",
    "tf.autograph.set_verbosity(0)\n",
    "import logging\n",
    "tf.get_logger().setLevel(logging.ERROR)\n",
    "\n",
    "import re\n",
    "import altair as alt\n",
    "from stable_baselines.deepq import DQN, MlpPolicy as DQN_MlpPolicy, LnMlpPolicy\n",
    "from stable_baselines.common.vec_env import DummyVecEnv\n",
    "import pandas as pd\n",
    "import numpy as np\n",
    "from tqdm import tqdm\n",
    "from bayes_opt import BayesianOptimization\n",
    "\n",
    "\n",
    "from env.SepsisEnv import SepsisEnv\n",
    "from load_data import load_data\n",
    "from add_reward import add_reward_df, add_end_episode_df\n",
    "\n"
   ]
  },
  {
   "cell_type": "code",
   "execution_count": 2,
   "metadata": {},
   "outputs": [],
   "source": [
    "df = load_data()\n",
    "df = add_reward_df(df)\n",
    "df = add_end_episode_df(df)"
   ]
  },
  {
   "cell_type": "code",
   "execution_count": 3,
   "metadata": {},
   "outputs": [],
   "source": [
    "df = df.reset_index()"
   ]
  },
  {
   "cell_type": "code",
   "execution_count": 8,
   "metadata": {},
   "outputs": [],
   "source": [
    "total_timesteps = 10_000\n",
    "iterations = 50_000"
   ]
  },
  {
   "cell_type": "code",
   "execution_count": 9,
   "metadata": {},
   "outputs": [],
   "source": [
    "def train_model(env, model, total_timesteps, iterations):\n",
    "    model.learn(total_timesteps=total_timesteps)\n",
    "    reward_list = []\n",
    "    obs = env.reset()\n",
    "    patient_count = 0\n",
    "    for _ in tqdm(range(iterations)):\n",
    "        action, _states = model.predict(obs)\n",
    "        obs, rewards, done, info = env.step(action)\n",
    "        reward_list.append(rewards[0])\n",
    "        if done:\n",
    "            patient_count += 1           \n",
    "            obs = env.reset()\n",
    "    model_name = re.sub(r'\\W+', '', str(model.__class__).split('.')[-1])\n",
    "    policy_name = re.sub(r'\\W+', '', str(model.policy).split('.')[-1])\n",
    "#     print('Model: ', model_name)\n",
    "#     print('Policy: ', policy_name)\n",
    "#     print('Total patients: ', patient_count)\n",
    "#     print('Total reward:', sum(reward_list))\n",
    "    \n",
    "    return sum(reward_list)"
   ]
  },
  {
   "cell_type": "markdown",
   "metadata": {},
   "source": [
    "Bayesian Optimization code from:\n",
    "https://colab.research.google.com/gist/iyaja/bf1d35a09ea5e0559900cc9136f96e36/hyperparameter-optimization-fastai.ipynb#scrollTo=gGZm73Txs9PS"
   ]
  },
  {
   "cell_type": "code",
   "execution_count": 10,
   "metadata": {},
   "outputs": [],
   "source": [
    "def fit_with(lr, bs, eps, final_eps):\n",
    "    env = DummyVecEnv([lambda: SepsisEnv(df)])\n",
    "    model = DQN(env=env,\n",
    "    policy=DQN_MlpPolicy,\n",
    "    learning_rate=lr,\n",
    "    buffer_size=bs,\n",
    "    exploration_fraction=eps,\n",
    "    exploration_final_eps=final_eps,\n",
    "    )\n",
    "    total_reward = train_model(env=env, model=model, total_timesteps=total_timesteps, iterations=iterations)\n",
    "    return total_reward"
   ]
  },
  {
   "cell_type": "code",
   "execution_count": 11,
   "metadata": {},
   "outputs": [
    {
     "name": "stdout",
     "output_type": "stream",
     "text": [
      "|   iter    |  target   |    bs     |    eps    | final_eps |    lr     |\n",
      "-------------------------------------------------------------------------\n"
     ]
    },
    {
     "name": "stderr",
     "output_type": "stream",
     "text": [
      "100%|██████████| 50000/50000 [01:48<00:00, 459.70it/s]\n"
     ]
    },
    {
     "name": "stdout",
     "output_type": "stream",
     "text": [
      "| \u001b[0m 1       \u001b[0m | \u001b[0m-883.0   \u001b[0m | \u001b[0m 1.265e+0\u001b[0m | \u001b[0m 0.0376  \u001b[0m | \u001b[0m 0.01658 \u001b[0m | \u001b[0m 0.003183\u001b[0m |\n"
     ]
    },
    {
     "name": "stderr",
     "output_type": "stream",
     "text": [
      "100%|██████████| 50000/50000 [01:48<00:00, 460.89it/s]\n"
     ]
    },
    {
     "name": "stdout",
     "output_type": "stream",
     "text": [
      "| \u001b[95m 2       \u001b[0m | \u001b[95m-765.1   \u001b[0m | \u001b[95m 3.432e+0\u001b[0m | \u001b[95m 0.03907 \u001b[0m | \u001b[95m 0.01284 \u001b[0m | \u001b[95m 0.00233 \u001b[0m |\n"
     ]
    },
    {
     "name": "stderr",
     "output_type": "stream",
     "text": [
      "100%|██████████| 50000/50000 [01:48<00:00, 459.75it/s]\n"
     ]
    },
    {
     "name": "stdout",
     "output_type": "stream",
     "text": [
      "| \u001b[0m 3       \u001b[0m | \u001b[0m-1.036e+0\u001b[0m | \u001b[0m 3.432e+0\u001b[0m | \u001b[0m 0.1372  \u001b[0m | \u001b[0m 0.01463 \u001b[0m | \u001b[0m 0.0001  \u001b[0m |\n"
     ]
    },
    {
     "name": "stderr",
     "output_type": "stream",
     "text": [
      "100%|██████████| 50000/50000 [01:50<00:00, 454.25it/s]\n"
     ]
    },
    {
     "name": "stdout",
     "output_type": "stream",
     "text": [
      "| \u001b[0m 4       \u001b[0m | \u001b[0m-1.163e+0\u001b[0m | \u001b[0m 8.192e+0\u001b[0m | \u001b[0m 0.1276  \u001b[0m | \u001b[0m 0.01956 \u001b[0m | \u001b[0m 0.0001  \u001b[0m |\n"
     ]
    },
    {
     "name": "stderr",
     "output_type": "stream",
     "text": [
      "100%|██████████| 50000/50000 [01:47<00:00, 464.04it/s]\n"
     ]
    },
    {
     "name": "stdout",
     "output_type": "stream",
     "text": [
      "| \u001b[0m 5       \u001b[0m | \u001b[0m-919.4   \u001b[0m | \u001b[0m 3.146e+0\u001b[0m | \u001b[0m 0.1056  \u001b[0m | \u001b[0m 0.01801 \u001b[0m | \u001b[0m 0.0001  \u001b[0m |\n"
     ]
    },
    {
     "name": "stderr",
     "output_type": "stream",
     "text": [
      "100%|██████████| 50000/50000 [01:49<00:00, 457.60it/s]\n"
     ]
    },
    {
     "name": "stdout",
     "output_type": "stream",
     "text": [
      "| \u001b[0m 6       \u001b[0m | \u001b[0m-1.154e+0\u001b[0m | \u001b[0m 3.707e+0\u001b[0m | \u001b[0m 0.1979  \u001b[0m | \u001b[0m 0.01131 \u001b[0m | \u001b[0m 0.0001  \u001b[0m |\n"
     ]
    },
    {
     "name": "stderr",
     "output_type": "stream",
     "text": [
      "100%|██████████| 50000/50000 [01:48<00:00, 459.49it/s]"
     ]
    },
    {
     "name": "stdout",
     "output_type": "stream",
     "text": [
      "| \u001b[0m 7       \u001b[0m | \u001b[0m-1.37e+03\u001b[0m | \u001b[0m 8.73e+04\u001b[0m | \u001b[0m 0.1744  \u001b[0m | \u001b[0m 0.01805 \u001b[0m | \u001b[0m 0.0001  \u001b[0m |\n",
      "=========================================================================\n",
      "Iteration 0: \n",
      "\t{'target': -882.9500152952969, 'params': {'bs': 12652.586464441809, 'eps': 0.03759859529433134, 'final_eps': 0.016576522954824646, 'lr': 0.0031825364793057883}}\n",
      "Iteration 1: \n",
      "\t{'target': -765.133347325027, 'params': {'bs': 34315.248936763615, 'eps': 0.039067682414731714, 'final_eps': 0.012844403027561272, 'lr': 0.0023302383142856323}}\n",
      "Iteration 2: \n",
      "\t{'target': -1036.4166837446392, 'params': {'bs': 34321.727982842254, 'eps': 0.13717585018667033, 'final_eps': 0.014630310695071915, 'lr': 0.0001}}\n",
      "Iteration 3: \n",
      "\t{'target': -1163.2333531156182, 'params': {'bs': 81916.57958022068, 'eps': 0.12758175509872266, 'final_eps': 0.019563716561210746, 'lr': 0.0001}}\n",
      "Iteration 4: \n",
      "\t{'target': -919.3666823580861, 'params': {'bs': 31464.259446718886, 'eps': 0.10556288295448141, 'final_eps': 0.018011535356845222, 'lr': 0.0001}}\n",
      "Iteration 5: \n",
      "\t{'target': -1153.627796728164, 'params': {'bs': 37072.8998268652, 'eps': 0.19785873190076989, 'final_eps': 0.01130642349623715, 'lr': 0.0001}}\n",
      "Iteration 6: \n",
      "\t{'target': -1369.777799680829, 'params': {'bs': 87297.49885640763, 'eps': 0.17439502068815335, 'final_eps': 0.0180536050923402, 'lr': 0.0001}}\n",
      "Max {'target': -765.133347325027, 'params': {'bs': 34315.248936763615, 'eps': 0.039067682414731714, 'final_eps': 0.012844403027561272, 'lr': 0.0023302383142856323}}\n"
     ]
    },
    {
     "name": "stderr",
     "output_type": "stream",
     "text": [
      "\n"
     ]
    }
   ],
   "source": [
    "# Bounded region of parameter space\n",
    "pbounds = {'lr': (1e-2, 1e-4), 'bs':(5_000, 100_000), 'eps':(0.01, 0.2), 'final_eps': (0.01, 0.02)}\n",
    "optimizer = BayesianOptimization(\n",
    "    f=fit_with,\n",
    "    pbounds=pbounds,\n",
    "    verbose=2 \n",
    "\n",
    ")\n",
    "\n",
    "optimizer.maximize(init_points=2, n_iter=5,)\n",
    "\n",
    "\n",
    "\n",
    "for i, res in enumerate(optimizer.res):\n",
    "    print(\"Iteration {}: \\n\\t{}\".format(i, res))\n",
    "\n",
    "print('Max', optimizer.max)    "
   ]
  },
  {
   "cell_type": "code",
   "execution_count": 12,
   "metadata": {},
   "outputs": [
    {
     "name": "stdout",
     "output_type": "stream",
     "text": [
      "Max {'target': -765.133347325027, 'params': {'bs': 34315.248936763615, 'eps': 0.039067682414731714, 'final_eps': 0.012844403027561272, 'lr': 0.0023302383142856323}}\n"
     ]
    }
   ],
   "source": [
    "print('Max', optimizer.max) "
   ]
  },
  {
   "cell_type": "code",
   "execution_count": null,
   "metadata": {},
   "outputs": [],
   "source": []
  }
 ],
 "metadata": {
  "kernelspec": {
   "display_name": "Python 3",
   "language": "python",
   "name": "python3"
  },
  "language_info": {
   "codemirror_mode": {
    "name": "ipython",
    "version": 3
   },
   "file_extension": ".py",
   "mimetype": "text/x-python",
   "name": "python",
   "nbconvert_exporter": "python",
   "pygments_lexer": "ipython3",
   "version": "3.7.7"
  }
 },
 "nbformat": 4,
 "nbformat_minor": 4
}
