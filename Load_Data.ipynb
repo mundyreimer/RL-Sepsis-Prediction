{
 "cells": [
  {
   "cell_type": "code",
   "execution_count": 1,
   "metadata": {},
   "outputs": [],
   "source": [
    "import pandas as pd\n",
    "import os\n",
    "import numpy as np\n",
    "from cache_em_all import Cachable"
   ]
  },
  {
   "cell_type": "markdown",
   "metadata": {},
   "source": [
    "Data loading code from: https://c4m-uoft.github.io/projects/physionet/physionet2019_handout.pdf"
   ]
  },
  {
   "cell_type": "code",
   "execution_count": 2,
   "metadata": {},
   "outputs": [],
   "source": [
    "DATA_DIR = \"data/training_setA/\"  # Path to the data\n",
    "\n",
    "# Names of all columns in the data that contain physiological data\n",
    "physiological_cols = ['HR', 'O2Sat', 'Temp', 'SBP', 'MAP', 'DBP', 'Resp', 'EtCO2',\n",
    "       'BaseExcess', 'HCO3', 'FiO2', 'pH', 'PaCO2', 'SaO2', 'AST', 'BUN',\n",
    "       'Alkalinephos', 'Calcium', 'Chloride', 'Creatinine', 'Bilirubin_direct',\n",
    "       'Glucose', 'Lactate', 'Magnesium', 'Phosphate', 'Potassium',\n",
    "       'Bilirubin_total', 'TroponinI', 'Hct', 'Hgb', 'PTT', 'WBC',\n",
    "       'Fibrinogen', 'Platelets']\n",
    "\n",
    "# Names of all columns in the data that contain demographic data\n",
    "demographic_cols = ['Age', 'Gender', 'Unit1', 'Unit2', 'HospAdmTime', 'ICULOS']\n",
    "\n",
    "# The combination of physiological and demographic data is what we will use as features in our model\n",
    "feature_cols = physiological_cols + demographic_cols\n",
    "\n",
    "# The name of the column that contains the value we are trying to predic\n",
    "label_col = \"SepsisLabel\"\n",
    "\n",
    "# Pre-calculated means and standard deviation of all physiological and demographic columns. We will use this to normalize\n",
    "# data using their z-score. This isn't as important for simpler models such as random forests and decision trees,\n",
    "# but can result in significant improvements when using neural networks\n",
    "physiological_mean = np.array([\n",
    "        83.8996, 97.0520,  36.8055,  126.2240, 86.2907,\n",
    "        66.2070, 18.7280,  33.7373,  -3.1923,  22.5352,\n",
    "        0.4597,  7.3889,   39.5049,  96.8883,  103.4265,\n",
    "        22.4952, 87.5214,  7.7210,   106.1982, 1.5961,\n",
    "        0.6943,  131.5327, 2.0262,   2.0509,   3.5130,\n",
    "        4.0541,  1.3423,   5.2734,   32.1134,  10.5383,\n",
    "        38.9974, 10.5585,  286.5404, 198.6777])\n",
    "physiological_std = np.array([\n",
    "        17.6494, 3.0163,  0.6895,   24.2988, 16.6459,\n",
    "        14.0771, 4.7035,  11.0158,  3.7845,  3.1567,\n",
    "        6.2684,  0.0710,  9.1087,   3.3971,  430.3638,\n",
    "        19.0690, 81.7152, 2.3992,   4.9761,  2.0648,\n",
    "        1.9926,  45.4816, 1.6008,   0.3793,  1.3092,\n",
    "        0.5844,  2.5511,  20.4142,  6.4362,  2.2302,\n",
    "        29.8928, 7.0606,  137.3886, 96.8997])\n",
    "demographic_mean = np.array([60.8711, 0.5435, 0.0615, 0.0727, -59.6769, 28.4551])\n",
    "demographic_std = np.array([16.1887, 0.4981, 0.7968, 0.8029, 160.8846, 29.5367])"
   ]
  },
  {
   "cell_type": "code",
   "execution_count": 5,
   "metadata": {},
   "outputs": [],
   "source": [
    "def load_single_file(file_path):\n",
    "    df = pd.read_csv(file_path, sep='|')\n",
    "    df['hours'] = df.index\n",
    "    df['patient'] = file_path[22:-4]\n",
    "    return df\n",
    "\n",
    "def clean_data(data):\n",
    "    data.reset_index(inplace=True, drop=True)\n",
    "\n",
    "    # Normalizes physiological and demographic data using z-score.\n",
    "    data[physiological_cols] = (data[physiological_cols] - physiological_mean) / physiological_std\n",
    "    data[demographic_cols] = (data[demographic_cols] - demographic_mean) / demographic_std\n",
    "\n",
    "    # Maps invalid numbers (NaN, inf, -inf) to numbers (0, really large number, really small number)\n",
    "    data[feature_cols] = np.nan_to_num(data[feature_cols])\n",
    "\n",
    "    return data\n",
    "\n",
    "    \n",
    "def get_data_files():\n",
    "    return [os.path.join(DATA_DIR, x) for x in sorted(os.listdir(DATA_DIR)) if int(x[1:-4]) % 5 > 0]\n",
    "\n",
    "@Cachable('training_setA.csv')\n",
    "def load_data():\n",
    "    data = get_data_files()\n",
    "    data_frames = [clean_data(load_single_file(d)) for d in data]\n",
    "    merged = pd.concat(data_frames)\n",
    "    return merged"
   ]
  },
  {
   "cell_type": "code",
   "execution_count": 9,
   "metadata": {},
   "outputs": [],
   "source": [
    "df = load_data()"
   ]
  },
  {
   "cell_type": "code",
   "execution_count": 10,
   "metadata": {},
   "outputs": [
    {
     "data": {
      "text/plain": [
       "HR                  False\n",
       "O2Sat               False\n",
       "Temp                False\n",
       "SBP                 False\n",
       "MAP                 False\n",
       "DBP                 False\n",
       "Resp                False\n",
       "EtCO2               False\n",
       "BaseExcess          False\n",
       "HCO3                False\n",
       "FiO2                False\n",
       "pH                  False\n",
       "PaCO2               False\n",
       "SaO2                False\n",
       "AST                 False\n",
       "BUN                 False\n",
       "Alkalinephos        False\n",
       "Calcium             False\n",
       "Chloride            False\n",
       "Creatinine          False\n",
       "Bilirubin_direct    False\n",
       "Glucose             False\n",
       "Lactate             False\n",
       "Magnesium           False\n",
       "Phosphate           False\n",
       "Potassium           False\n",
       "Bilirubin_total     False\n",
       "TroponinI           False\n",
       "Hct                 False\n",
       "Hgb                 False\n",
       "PTT                 False\n",
       "WBC                 False\n",
       "Fibrinogen          False\n",
       "Platelets           False\n",
       "Age                 False\n",
       "Gender              False\n",
       "Unit1               False\n",
       "Unit2               False\n",
       "HospAdmTime         False\n",
       "ICULOS              False\n",
       "SepsisLabel         False\n",
       "hours               False\n",
       "patient             False\n",
       "dtype: bool"
      ]
     },
     "execution_count": 10,
     "metadata": {},
     "output_type": "execute_result"
    }
   ],
   "source": [
    "df.isnull().any()"
   ]
  }
 ],
 "metadata": {
  "kernelspec": {
   "display_name": "Python 3",
   "language": "python",
   "name": "python3"
  },
  "language_info": {
   "codemirror_mode": {
    "name": "ipython",
    "version": 3
   },
   "file_extension": ".py",
   "mimetype": "text/x-python",
   "name": "python",
   "nbconvert_exporter": "python",
   "pygments_lexer": "ipython3",
   "version": "3.7.5"
  }
 },
 "nbformat": 4,
 "nbformat_minor": 2
}
