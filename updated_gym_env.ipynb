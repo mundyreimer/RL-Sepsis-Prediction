{
 "cells": [
  {
   "cell_type": "code",
   "execution_count": 19,
   "metadata": {},
   "outputs": [],
   "source": [
    "# Filter tensorflow version warnings\n",
    "import os\n",
    "# https://stackoverflow.com/questions/40426502/is-there-a-way-to-suppress-the-messages-tensorflow-prints/40426709\n",
    "os.environ['TF_CPP_MIN_LOG_LEVEL'] = '3'  # or any {'0', '1', '2'}\n",
    "import warnings\n",
    "# https://stackoverflow.com/questions/15777951/how-to-suppress-pandas-future-warning\n",
    "warnings.simplefilter(action='ignore', category=FutureWarning)\n",
    "warnings.simplefilter(action='ignore', category=Warning)\n",
    "import tensorflow as tf\n",
    "tf.get_logger().setLevel('INFO')\n",
    "tf.autograph.set_verbosity(0)\n",
    "import logging\n",
    "tf.get_logger().setLevel(logging.ERROR)\n",
    "\n",
    "import gym\n",
    "from stable_baselines.common.policies import MlpPolicy, MlpLstmPolicy, MlpLnLstmPolicy\n",
    "from stable_baselines.deepq import DQN\n",
    "from stable_baselines.common.vec_env import DummyVecEnv\n",
    "from stable_baselines import PPO2, A2C\n",
    "\n",
    "\n",
    "from env.SepsisEnv import SepsisEnv\n",
    "from load_data import load_data\n",
    "from add_reward import add_reward_df, add_end_episode_df\n",
    "import pandas as pd\n",
    "import numpy as np\n",
    "\n",
    "from tqdm import tqdm"
   ]
  },
  {
   "cell_type": "markdown",
   "metadata": {},
   "source": [
    "### Load Data"
   ]
  },
  {
   "cell_type": "code",
   "execution_count": 2,
   "metadata": {},
   "outputs": [],
   "source": [
    "df = load_data()\n",
    "df = add_reward_df(df)\n",
    "df = add_end_episode_df(df)"
   ]
  },
  {
   "cell_type": "code",
   "execution_count": 3,
   "metadata": {},
   "outputs": [],
   "source": [
    "df = df.reset_index()"
   ]
  },
  {
   "cell_type": "code",
   "execution_count": 7,
   "metadata": {},
   "outputs": [],
   "source": [
    "total_timesteps = 20\n",
    "iterations = 200"
   ]
  },
  {
   "cell_type": "code",
   "execution_count": 8,
   "metadata": {},
   "outputs": [],
   "source": [
    "def train_model(env, model, total_timesteps, iterations):\n",
    "    model.learn(total_timesteps=total_timesteps)\n",
    "    reward_list = []\n",
    "    obs = env.reset()\n",
    "    patient_count = 0\n",
    "    for _ in tqdm(range(iterations)):\n",
    "        action, _states = model.predict(obs)\n",
    "        obs, rewards, done, info = env.step(action)\n",
    "        reward_list.append(rewards)\n",
    "        if done:\n",
    "            patient_count += 1\n",
    "            obs = env.reset()\n",
    "        # env.render()\n",
    "    print('Model: ', model.__class__)\n",
    "    print('Policy: ', model.policy)\n",
    "    print('Total patients: ', patient_count)\n",
    "    print('Total reward:', sum(reward_list))"
   ]
  },
  {
   "cell_type": "markdown",
   "metadata": {},
   "source": [
    "---"
   ]
  },
  {
   "cell_type": "code",
   "execution_count": 15,
   "metadata": {},
   "outputs": [],
   "source": [
    "env = DummyVecEnv([lambda: SepsisEnv(df)])"
   ]
  },
  {
   "cell_type": "code",
   "execution_count": 16,
   "metadata": {},
   "outputs": [],
   "source": [
    "models = [\n",
    "    PPO2(MlpPolicy, env, verbose=0),\n",
    "    PPO2(MlpLstmPolicy, env, nminibatches=1, verbose=0),\n",
    "    PPO2(MlpLnLstmPolicy, env, nminibatches=1, verbose=0),\n",
    "    A2C(MlpPolicy, env, lr_schedule='constant'),\n",
    "    A2C(MlpLstmPolicy, env, lr_schedule='constant'),\n",
    "    DQN(env=env,\n",
    "        policy=DQN_MlpPolicy,\n",
    "        learning_rate=1e-3,\n",
    "        buffer_size=50000,\n",
    "        exploration_fraction=0.1,\n",
    "        exploration_final_eps=0.02,\n",
    "        ),\n",
    "    DQN(env=env,\n",
    "        policy=LnMlpPolicy,\n",
    "        learning_rate=1e-3,\n",
    "        buffer_size=50000,\n",
    "        exploration_fraction=0.1,\n",
    "        exploration_final_eps=0.02,\n",
    "        )\n",
    "]"
   ]
  },
  {
   "cell_type": "code",
   "execution_count": 9,
   "metadata": {},
   "outputs": [
    {
     "name": "stderr",
     "output_type": "stream",
     "text": [
      "100%|██████████| 200/200 [00:00<00:00, 330.21it/s]\n",
      "  0%|          | 0/200 [00:00<?, ?it/s]"
     ]
    },
    {
     "name": "stdout",
     "output_type": "stream",
     "text": [
      "Model:  <class 'stable_baselines.ppo2.ppo2.PPO2'>\n",
      "Policy:  <class 'stable_baselines.common.policies.MlpPolicy'>\n",
      "Total patients:  5\n",
      "Total reward: [-4.6499996]\n"
     ]
    },
    {
     "name": "stderr",
     "output_type": "stream",
     "text": [
      "100%|██████████| 200/200 [00:00<00:00, 233.42it/s]\n",
      "  0%|          | 0/200 [00:00<?, ?it/s]"
     ]
    },
    {
     "name": "stdout",
     "output_type": "stream",
     "text": [
      "Model:  <class 'stable_baselines.ppo2.ppo2.PPO2'>\n",
      "Policy:  <class 'stable_baselines.common.policies.MlpLstmPolicy'>\n",
      "Total patients:  5\n",
      "Total reward: [-5.500003]\n"
     ]
    },
    {
     "name": "stderr",
     "output_type": "stream",
     "text": [
      "100%|██████████| 200/200 [00:01<00:00, 101.75it/s]\n"
     ]
    },
    {
     "name": "stdout",
     "output_type": "stream",
     "text": [
      "Model:  <class 'stable_baselines.ppo2.ppo2.PPO2'>\n",
      "Policy:  <class 'stable_baselines.common.policies.MlpLnLstmPolicy'>\n",
      "Total patients:  5\n",
      "Total reward: [-4.75]\n"
     ]
    },
    {
     "name": "stderr",
     "output_type": "stream",
     "text": [
      "100%|██████████| 200/200 [00:00<00:00, 372.32it/s]\n"
     ]
    },
    {
     "name": "stdout",
     "output_type": "stream",
     "text": [
      "Model:  <class 'stable_baselines.a2c.a2c.A2C'>\n",
      "Policy:  <class 'stable_baselines.common.policies.MlpPolicy'>\n",
      "Total patients:  5\n",
      "Total reward: [-5.4000025]\n"
     ]
    },
    {
     "name": "stderr",
     "output_type": "stream",
     "text": [
      "100%|██████████| 200/200 [00:00<00:00, 344.02it/s]"
     ]
    },
    {
     "name": "stdout",
     "output_type": "stream",
     "text": [
      "Model:  <class 'stable_baselines.a2c.a2c.A2C'>\n",
      "Policy:  <class 'stable_baselines.common.policies.MlpLstmPolicy'>\n",
      "Total patients:  5\n",
      "Total reward: [-5.250002]\n"
     ]
    },
    {
     "name": "stderr",
     "output_type": "stream",
     "text": [
      "\n"
     ]
    }
   ],
   "source": [
    "for model in models:\n",
    "    env = DummyVecEnv([lambda: SepsisEnv(df)])\n",
    "    train_model(env=env, model=model, total_timesteps=total_timesteps, iterations=iterations)"
   ]
  },
  {
   "cell_type": "markdown",
   "metadata": {},
   "source": [
    "---"
   ]
  },
  {
   "cell_type": "markdown",
   "metadata": {},
   "source": [
    "#### 2) Random Model"
   ]
  },
  {
   "cell_type": "code",
   "execution_count": 17,
   "metadata": {
    "scrolled": true
   },
   "outputs": [],
   "source": [
    "def train_baseline_models(df, iterations, constant=False):\n",
    "    reward_list = []\n",
    "    env = DummyVecEnv([lambda: SepsisEnv(df)])\n",
    "    obs = env.reset()\n",
    "    patient_count = 0\n",
    "    for _ in tqdm(range(iterations)): \n",
    "        if constant:\n",
    "            obs, rewards, done, info = env.step(np.array([0]))\n",
    "        else:\n",
    "            action = np.random.choice([0,1], size=1)\n",
    "            obs, rewards, done, info = env.step(action)\n",
    "        reward_list.append(rewards)\n",
    "        if done:\n",
    "            patient_count += 1\n",
    "            obs = env.reset()\n",
    "    if constant:\n",
    "        print('Model: All Non-sepsis')\n",
    "    else:\n",
    "        print('Model: Random')\n",
    "    print('Total patients: ', patient_count)\n",
    "    print('Total reward:', sum(reward_list))"
   ]
  },
  {
   "cell_type": "code",
   "execution_count": 21,
   "metadata": {},
   "outputs": [
    {
     "name": "stderr",
     "output_type": "stream",
     "text": [
      "100%|██████████| 200/200 [00:00<00:00, 547.31it/s]\n",
      " 57%|█████▊    | 115/200 [00:00<00:00, 569.71it/s]"
     ]
    },
    {
     "name": "stdout",
     "output_type": "stream",
     "text": [
      "Model: Random\n",
      "Total patients:  5\n",
      "Total reward: [-5.2000017]\n"
     ]
    },
    {
     "name": "stderr",
     "output_type": "stream",
     "text": [
      "100%|██████████| 200/200 [00:00<00:00, 564.67it/s]"
     ]
    },
    {
     "name": "stdout",
     "output_type": "stream",
     "text": [
      "Model: All Non-sepsis\n",
      "Total patients:  5\n",
      "Total reward: [0.]\n"
     ]
    },
    {
     "name": "stderr",
     "output_type": "stream",
     "text": [
      "\n"
     ]
    }
   ],
   "source": [
    "train_baseline_models(df, iterations=iterations, constant=False)\n",
    "train_baseline_models(df, iterations=iterations, constant=True)"
   ]
  },
  {
   "cell_type": "code",
   "execution_count": null,
   "metadata": {},
   "outputs": [],
   "source": []
  }
 ],
 "metadata": {
  "kernelspec": {
   "display_name": "Python 3",
   "language": "python",
   "name": "python3"
  },
  "language_info": {
   "codemirror_mode": {
    "name": "ipython",
    "version": 3
   },
   "file_extension": ".py",
   "mimetype": "text/x-python",
   "name": "python",
   "nbconvert_exporter": "python",
   "pygments_lexer": "ipython3",
   "version": "3.7.7"
  }
 },
 "nbformat": 4,
 "nbformat_minor": 4
}
